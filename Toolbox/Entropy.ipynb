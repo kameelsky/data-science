{
 "cells": [
  {
   "cell_type": "code",
   "execution_count": 1,
   "metadata": {},
   "outputs": [],
   "source": [
    "import math\n",
    "import numpy as np\n",
    "import pandas as pd"
   ]
  },
  {
   "cell_type": "markdown",
   "metadata": {},
   "source": [
    "# Entropy of data\n",
    "\n",
    "$Suprise=\\log_{y}(\\frac{1}{p(x)})$\n",
    ",where $y$ indicates possible outputs\n",
    "\n",
    "If we toss a coin three times, and we get 2x heads ($p(heads) = 0.6$) and 1x tails ($p(tails) = 0.4$):\n",
    "\n",
    "$Suprise=\\log_{2}(\\frac{1}{0.6*0.6*0.4})$\n",
    "\n",
    "$=\\log_{2}(1) - \\log_{2}(0.6*0.6*0.4)$\n",
    "\n",
    "$=0 -\\log_{2}(0.6)-\\log_{2}(0.6)-\\log_{2}(0.4)$\n",
    "\n",
    "Total suprise is the sum of individual suprises."
   ]
  },
  {
   "cell_type": "code",
   "execution_count": 2,
   "metadata": {},
   "outputs": [
    {
     "name": "stdout",
     "output_type": "stream",
     "text": [
      "Individual suprises: [0.737, 0.737, 1.322];\n",
      "Total suprise: 2.796\n"
     ]
    }
   ],
   "source": [
    "def suprise(probabilities: list[float], outputs_number: int) -> None:\n",
    "    individual = [np.array(-math.log(i, outputs_number)).round(3) for i in probabilities]\n",
    "    total = np.array(sum(individual)).round(3)\n",
    "    print(f\"Individual suprises: {individual};\\nTotal suprise: {total}\")\n",
    "\n",
    "suprise([0.6, 0.6, 0.4], 2)"
   ]
  },
  {
   "cell_type": "code",
   "execution_count": 3,
   "metadata": {},
   "outputs": [
    {
     "data": {
      "text/html": [
       "<div>\n",
       "<style scoped>\n",
       "    .dataframe tbody tr th:only-of-type {\n",
       "        vertical-align: middle;\n",
       "    }\n",
       "\n",
       "    .dataframe tbody tr th {\n",
       "        vertical-align: top;\n",
       "    }\n",
       "\n",
       "    .dataframe thead th {\n",
       "        text-align: right;\n",
       "    }\n",
       "</style>\n",
       "<table border=\"1\" class=\"dataframe\">\n",
       "  <thead>\n",
       "    <tr style=\"text-align: right;\">\n",
       "      <th></th>\n",
       "      <th>Heads</th>\n",
       "      <th>Tails</th>\n",
       "    </tr>\n",
       "  </thead>\n",
       "  <tbody>\n",
       "    <tr>\n",
       "      <th>Probability</th>\n",
       "      <td>0.600</td>\n",
       "      <td>0.400</td>\n",
       "    </tr>\n",
       "    <tr>\n",
       "      <th>Suprise</th>\n",
       "      <td>0.737</td>\n",
       "      <td>1.322</td>\n",
       "    </tr>\n",
       "  </tbody>\n",
       "</table>\n",
       "</div>"
      ],
      "text/plain": [
       "             Heads  Tails\n",
       "Probability  0.600  0.400\n",
       "Suprise      0.737  1.322"
      ]
     },
     "execution_count": 3,
     "metadata": {},
     "output_type": "execute_result"
    }
   ],
   "source": [
    "df = pd.DataFrame({\"Heads\": [0.6, 0.737], \"Tails\": [0.4, 1.322]}, index=[\"Probability\", \"Suprise\"])\n",
    "df"
   ]
  },
  {
   "cell_type": "markdown",
   "metadata": {},
   "source": [
    "- **Expected value:**\n",
    "\n",
    "$E(x) = \\sum P(X=x)x$\n",
    "\n",
    "- **Entropy is the expected value of the suprise:**\n",
    "\n",
    "$Entropy = E(Suprise) = \\sum p(x)\\log_{y}(\\frac{1}{p(x)})$\n",
    "\n",
    "$=(0.6 * 0.737)+(0.4 * 1.322)$"
   ]
  },
  {
   "cell_type": "code",
   "execution_count": 4,
   "metadata": {},
   "outputs": [
    {
     "data": {
      "text/plain": [
       "0.9710000000000001"
      ]
     },
     "execution_count": 4,
     "metadata": {},
     "output_type": "execute_result"
    }
   ],
   "source": [
    "sum([np.prod(df[column].values) for column in df.columns])"
   ]
  },
  {
   "cell_type": "code",
   "execution_count": 5,
   "metadata": {},
   "outputs": [],
   "source": [
    "def suprise_calculator(probabilities: list[float], outputs_number: int) -> tuple[float]:\n",
    "    return [np.array(-math.log(i, outputs_number)).round(3) for i in probabilities]\n",
    "\n",
    "output = [\"Heads\", \"Tails\"]\n",
    "probs = [0.1, 0.9]\n",
    "suprises = suprise_calculator(probs, len(probs))"
   ]
  },
  {
   "cell_type": "code",
   "execution_count": 6,
   "metadata": {},
   "outputs": [
    {
     "data": {
      "text/html": [
       "<div>\n",
       "<style scoped>\n",
       "    .dataframe tbody tr th:only-of-type {\n",
       "        vertical-align: middle;\n",
       "    }\n",
       "\n",
       "    .dataframe tbody tr th {\n",
       "        vertical-align: top;\n",
       "    }\n",
       "\n",
       "    .dataframe thead th {\n",
       "        text-align: right;\n",
       "    }\n",
       "</style>\n",
       "<table border=\"1\" class=\"dataframe\">\n",
       "  <thead>\n",
       "    <tr style=\"text-align: right;\">\n",
       "      <th></th>\n",
       "      <th>Heads</th>\n",
       "      <th>Tails</th>\n",
       "    </tr>\n",
       "  </thead>\n",
       "  <tbody>\n",
       "    <tr>\n",
       "      <th>Probability</th>\n",
       "      <td>0.100</td>\n",
       "      <td>0.900</td>\n",
       "    </tr>\n",
       "    <tr>\n",
       "      <th>Suprise</th>\n",
       "      <td>3.322</td>\n",
       "      <td>0.152</td>\n",
       "    </tr>\n",
       "  </tbody>\n",
       "</table>\n",
       "</div>"
      ],
      "text/plain": [
       "             Heads  Tails\n",
       "Probability  0.100  0.900\n",
       "Suprise      3.322  0.152"
      ]
     },
     "execution_count": 6,
     "metadata": {},
     "output_type": "execute_result"
    }
   ],
   "source": [
    "df = pd.DataFrame({key:[p, s] for key, p, s in zip(output, probs, suprises)}, index=[\"Probability\", \"Suprise\"])\n",
    "df"
   ]
  },
  {
   "cell_type": "code",
   "execution_count": 7,
   "metadata": {},
   "outputs": [
    {
     "data": {
      "text/plain": [
       "0.4690000000000001"
      ]
     },
     "execution_count": 7,
     "metadata": {},
     "output_type": "execute_result"
    }
   ],
   "source": [
    "sum([np.prod(df[column].values) for column in df.columns])"
   ]
  },
  {
   "cell_type": "markdown",
   "metadata": {},
   "source": [
    "**Entropy is higher when we have the similar number of both types of outputs.**"
   ]
  }
 ],
 "metadata": {
  "kernelspec": {
   "display_name": "DataScience_env",
   "language": "python",
   "name": "python3"
  },
  "language_info": {
   "codemirror_mode": {
    "name": "ipython",
    "version": 3
   },
   "file_extension": ".py",
   "mimetype": "text/x-python",
   "name": "python",
   "nbconvert_exporter": "python",
   "pygments_lexer": "ipython3",
   "version": "3.11.6"
  }
 },
 "nbformat": 4,
 "nbformat_minor": 2
}
